{
 "cells": [
  {
   "cell_type": "markdown",
   "metadata": {},
   "source": [
    "# `DSML_WS_09` - Group Project Q&A"
   ]
  },
  {
   "cell_type": "markdown",
   "metadata": {},
   "source": [
    "Please work on the following task **before** the ninth workshop session.\n",
    "\n",
    "*Note*: Because there is no new Python content during this week, there is only one task to prepare for this workshop."
   ]
  },
  {
   "cell_type": "markdown",
   "metadata": {},
   "source": [
    "## 1. Predicting electricity demand - continued"
   ]
  },
  {
   "cell_type": "markdown",
   "metadata": {},
   "source": [
    "In the preparation task for workshop 8, you predicted **average electrical load** from **average temperature** using polynomial features with `scikit learn`. Let us continue from there by doing the following: \n",
    "\n",
    "- Load data and filter dataframe to exclude any observations with `Avg_temp` outside the range of -20 to +30 degrees.\n",
    "- Define X and y vectors, and perform train/test split.\n",
    "- Create polynomial features up to degree 50 and scale using `StandardScaler`.\n",
    "- Initialize and fit model using `LinearRegression`.\n",
    "- Initialize and fit second model with appropriate alpha using `Ridge`.\n",
    "- Initialize and fit third model with appropriate alpha using `Lasso`.\n",
    "- Initialize and fit fourth model with appropriate value for n_neighbors using `KNeighborsRegressor`.\n",
    "- Compare model performances using `mean_absolute_error` and `r2_score`.\n",
    "- **Extra task**: for each of the four models, create a scatter plot of the test data and plot the regression line on top of it."
   ]
  },
  {
   "cell_type": "code",
   "execution_count": null,
   "metadata": {},
   "outputs": [],
   "source": [
    "# your code here\n"
   ]
  }
 ],
 "metadata": {
  "kernelspec": {
   "display_name": "DSML_env",
   "language": "python",
   "name": "python3"
  },
  "language_info": {
   "codemirror_mode": {
    "name": "ipython",
    "version": 3
   },
   "file_extension": ".py",
   "mimetype": "text/x-python",
   "name": "python",
   "nbconvert_exporter": "python",
   "pygments_lexer": "ipython3",
   "version": "3.1.-1"
  }
 },
 "nbformat": 4,
 "nbformat_minor": 2
}
