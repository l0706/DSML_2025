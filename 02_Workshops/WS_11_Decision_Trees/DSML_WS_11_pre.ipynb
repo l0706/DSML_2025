{
 "cells": [
  {
   "cell_type": "markdown",
   "metadata": {},
   "source": [
    "# `DSML_WS_11` - Decision Trees"
   ]
  },
  {
   "cell_type": "markdown",
   "metadata": {},
   "source": [
    "Please work on the following task **before** the eleventh workshop session."
   ]
  },
  {
   "cell_type": "markdown",
   "metadata": {},
   "source": [
    "## 1. Classifying breast cancer cells"
   ]
  },
  {
   "cell_type": "markdown",
   "metadata": {},
   "source": [
    "In workshop 10, we looked at the workings of relevant classification algorithms. One issue which we did not consider was that we have trained our algorithms on the full set of available data. While this is fine for understanding how classification works in general, it is not suitable for developing predictive models (as you know by now).\n",
    "\n",
    "As a result, the classification metrics from last week's workshop are relatively meaningless as we need to evaluate on previously unseen data. \n",
    "\n",
    "**Design a proper model development routine to train a high-performing classification algorithm for the breast cancer dataset. Proceed as follows:**\n",
    "\n",
    "- Define your feature (let's continue to focus on `area_mean` and `concave points_mean`) and target sets.\n",
    "- Partition the data into training, validation and test set, and scale the input features.\n",
    "- Train a support vector machine on the training set.\n",
    "- Tweak hyperparameters (e.g., kernel) by validating on the validation set.\n",
    "- Report test metrics from the unseen test set (only look at the test set once you are finished validating your model. Do not go back and forth as this would create leakage!)."
   ]
  },
  {
   "cell_type": "code",
   "execution_count": null,
   "metadata": {},
   "outputs": [],
   "source": [
    "# your code here"
   ]
  },
  {
   "cell_type": "markdown",
   "metadata": {},
   "source": [
    "## 2. Decision Trees for regression: Peak electricity demand example (Repetiton)"
   ]
  },
  {
   "cell_type": "markdown",
   "metadata": {},
   "source": [
    "Revisit the tree-based regression introduced in ``Workshop 8``. In that session, we used a tree-based model to predict peak electricity demand based on temperature, splitting the data into training and testing sets. We also identified the optimal tree depth using a simple grid search over various tree depths. \n",
    "\n",
    "Instead of solely plotting the predicted regression line across all data in a scatterplot, we can also visually illustrate the model's desicion process using a tree diagram. This can be easily achieved with the ``plot_tree`` function from the ``sklearn.tree`` library.\n",
    "Let's look at a very simple tree architecture for the prediciton of peak electricity demand - to do this, proceed as follows:"
   ]
  },
  {
   "cell_type": "code",
   "execution_count": null,
   "metadata": {},
   "outputs": [],
   "source": [
    "from sklearn.tree import DecisionTreeRegressor, plot_tree"
   ]
  },
  {
   "cell_type": "markdown",
   "metadata": {},
   "source": [
    "**Step 1:** Load the ``Pittsburgh_load_data.csv`` dataset and specify the input vectors for your model:\n",
    "- *Peak electricity demand* (``MAX``) as the prediction target\n",
    "- *High temperature* (``High_temp``) as the predictor"
   ]
  },
  {
   "cell_type": "code",
   "execution_count": null,
   "metadata": {},
   "outputs": [],
   "source": [
    "# your code here"
   ]
  },
  {
   "cell_type": "markdown",
   "metadata": {},
   "source": [
    "**Step 2:** Use the ``DesicisonTreeRegressor`` to fit a decision tree of max_depth = 2 to your data and plot the results in a scatterplot. Name the model *tree_model*.\n",
    "\n",
    "***Note:** For demonstration purposes, skip the training, validation and test splits, that would normally be required for prediction (as done in the first task). Our goal in this introductory setting is simply to get started with the visualization of tree diagrams and their interpretation.*"
   ]
  },
  {
   "cell_type": "code",
   "execution_count": null,
   "metadata": {},
   "outputs": [],
   "source": [
    "# your code here"
   ]
  },
  {
   "cell_type": "markdown",
   "metadata": {},
   "source": [
    "**Step 3:** Visualize the tree diagram, by utilizing the ``plot_tree`` function.\n",
    "\n",
    "Start by initializing a figure with ``plt.figsize = (12,6)``, then use ``plot_tree(tree_model, feature_names=['High Temperature'])``.\n",
    "- Can you interpret the values that are depicted in the graphical representation of the tree?\n",
    "- How would you traverse the tree to predict peak electricity demand of a day with a high temperature of 30 C°?"
   ]
  },
  {
   "cell_type": "code",
   "execution_count": null,
   "metadata": {},
   "outputs": [],
   "source": [
    "# your code here"
   ]
  }
 ],
 "metadata": {
  "kernelspec": {
   "display_name": "DSML_env",
   "language": "python",
   "name": "python3"
  },
  "language_info": {
   "codemirror_mode": {
    "name": "ipython",
    "version": 3
   },
   "file_extension": ".py",
   "mimetype": "text/x-python",
   "name": "python",
   "nbconvert_exporter": "python",
   "pygments_lexer": "ipython3",
   "version": "3.13.2"
  }
 },
 "nbformat": 4,
 "nbformat_minor": 2
}
