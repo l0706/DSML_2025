{
 "cells": [
  {
   "cell_type": "markdown",
   "metadata": {},
   "source": [
    "# **`DSML_WS_13` - Clustering Task**"
   ]
  },
  {
   "cell_type": "markdown",
   "metadata": {},
   "source": [
    "Please work on the following task **before** the thirteenth workshop session."
   ]
  },
  {
   "cell_type": "markdown",
   "metadata": {},
   "source": [
    "## 1. **Clustering breast cancer samples**"
   ]
  },
  {
   "cell_type": "markdown",
   "metadata": {},
   "source": [
    "In the last workshop, we have illustrated k-means clustering using the iris flower dataset. Put what you have learned into practice by applying it to our known cancer dataset. Focus only on a selected subset of features: ``radius_mean``, ``texture_mean``, ``concavity_mean``, and ``smoothness_mean``. Would you have chosen the true number of 2 clusters without knowing that there are only two cancer types? Do the following:\n",
    "- load and prepare data (including feature scaling)\n",
    "- Run k-means for different values of k using the selected features\n",
    "- select the most suitable k using the elbow method\n",
    "- re-train your model using your selected number for k\n",
    "- Generate two scatterplots: one showing the true label, and one showing your generated clusters (using the first two selected features for x and y)"
   ]
  },
  {
   "cell_type": "code",
   "execution_count": null,
   "metadata": {},
   "outputs": [],
   "source": [
    "# your code here"
   ]
  }
 ],
 "metadata": {
  "kernelspec": {
   "display_name": "DSML_env",
   "language": "python",
   "name": "python3"
  },
  "language_info": {
   "codemirror_mode": {
    "name": "ipython",
    "version": 3
   },
   "file_extension": ".py",
   "mimetype": "text/x-python",
   "name": "python",
   "nbconvert_exporter": "python",
   "pygments_lexer": "ipython3",
   "version": "3.12.2"
  }
 },
 "nbformat": 4,
 "nbformat_minor": 2
}
