{
 "cells": [
  {
   "cell_type": "markdown",
   "metadata": {},
   "source": [
    "# **`DSML_WS_13` - Clustering Task**"
   ]
  },
  {
   "cell_type": "markdown",
   "metadata": {},
   "source": [
    "Today is the final workshop of the DSML course. Since we do not have any new concepts to implement, the only bit that is left is discussing the final preparation task."
   ]
  },
  {
   "cell_type": "markdown",
   "metadata": {},
   "source": [
    "## 1. **Clustering breast cancer samples**"
   ]
  },
  {
   "cell_type": "markdown",
   "metadata": {},
   "source": [
    "In the last workshop, we have illustrated k-means clustering using the iris flower dataset. Put what you have learned into practice by applying it to our known cancer dataset. Focus only on a selected subset of features: ``radius_mean``, ``texture_mean``, ``concavity_mean``, and ``smoothness_mean``. Would you have chosen the true number of 2 clusters without knowing that there are only two cancer types? Do the following:\n",
    "- load and prepare data (including feature scaling)\n",
    "- Run k-means for different values of k using the selected features\n",
    "- select the most suitable k using the elbow method\n",
    "- re-train your model using your selected number for k\n",
    "- Generate two scatterplots: one showing the true label, and one showing your generated clusters (using the first two selected features for x and y)"
   ]
  },
  {
   "cell_type": "code",
   "execution_count": 2,
   "metadata": {},
   "outputs": [],
   "source": [
    "import pandas as pd\n",
    "import numpy as np\n",
    "import matplotlib.pyplot as plt\n",
    "import seaborn as sns\n",
    "from sklearn.preprocessing import StandardScaler\n",
    "from sklearn.cluster import KMeans"
   ]
  },
  {
   "cell_type": "code",
   "execution_count": 3,
   "metadata": {},
   "outputs": [
    {
     "data": {
      "application/vnd.microsoft.datawrangler.viewer.v0+json": {
       "columns": [
        {
         "name": "id",
         "rawType": "int64",
         "type": "integer"
        },
        {
         "name": "radius_mean",
         "rawType": "float64",
         "type": "float"
        },
        {
         "name": "texture_mean",
         "rawType": "float64",
         "type": "float"
        },
        {
         "name": "concavity_mean",
         "rawType": "float64",
         "type": "float"
        },
        {
         "name": "smoothness_mean",
         "rawType": "float64",
         "type": "float"
        }
       ],
       "ref": "7cc795fe-8a14-46ef-9200-80159a8fcc26",
       "rows": [
        [
         "842302",
         "17.99",
         "10.38",
         "0.3001",
         "0.1184"
        ],
        [
         "842517",
         "20.57",
         "17.77",
         "0.0869",
         "0.08474"
        ],
        [
         "84300903",
         "19.69",
         "21.25",
         "0.1974",
         "0.1096"
        ],
        [
         "84348301",
         "11.42",
         "20.38",
         "0.2414",
         "0.1425"
        ],
        [
         "84358402",
         "20.29",
         "14.34",
         "0.198",
         "0.1003"
        ],
        [
         "843786",
         "12.45",
         "15.7",
         "0.1578",
         "0.1278"
        ],
        [
         "844359",
         "18.25",
         "19.98",
         "0.1127",
         "0.09463"
        ],
        [
         "84458202",
         "13.71",
         "20.83",
         "0.09366",
         "0.1189"
        ],
        [
         "844981",
         "13.0",
         "21.82",
         "0.1859",
         "0.1273"
        ],
        [
         "84501001",
         "12.46",
         "24.04",
         "0.2273",
         "0.1186"
        ],
        [
         "845636",
         "16.02",
         "23.24",
         "0.03299",
         "0.08206"
        ],
        [
         "84610002",
         "15.78",
         "17.89",
         "0.09954",
         "0.0971"
        ],
        [
         "846226",
         "19.17",
         "24.8",
         "0.2065",
         "0.0974"
        ],
        [
         "846381",
         "15.85",
         "23.95",
         "0.09938",
         "0.08401"
        ],
        [
         "84667401",
         "13.73",
         "22.61",
         "0.2128",
         "0.1131"
        ],
        [
         "84799002",
         "14.54",
         "27.54",
         "0.1639",
         "0.1139"
        ],
        [
         "848406",
         "14.68",
         "20.13",
         "0.07395",
         "0.09867"
        ],
        [
         "84862001",
         "16.13",
         "20.68",
         "0.1722",
         "0.117"
        ],
        [
         "849014",
         "19.81",
         "22.15",
         "0.1479",
         "0.09831"
        ],
        [
         "8510426",
         "13.54",
         "14.36",
         "0.06664",
         "0.09779"
        ],
        [
         "8510653",
         "13.08",
         "15.71",
         "0.04568",
         "0.1075"
        ],
        [
         "8510824",
         "9.504",
         "12.44",
         "0.02956",
         "0.1024"
        ],
        [
         "8511133",
         "15.34",
         "14.26",
         "0.2077",
         "0.1073"
        ],
        [
         "851509",
         "21.16",
         "23.04",
         "0.1097",
         "0.09428"
        ],
        [
         "852552",
         "16.65",
         "21.38",
         "0.1525",
         "0.1121"
        ],
        [
         "852631",
         "17.14",
         "16.4",
         "0.2229",
         "0.1186"
        ],
        [
         "852763",
         "14.58",
         "21.53",
         "0.1425",
         "0.1054"
        ],
        [
         "852781",
         "18.61",
         "20.25",
         "0.149",
         "0.0944"
        ],
        [
         "852973",
         "15.3",
         "25.27",
         "0.1683",
         "0.1082"
        ],
        [
         "853201",
         "17.57",
         "15.05",
         "0.09875",
         "0.09847"
        ],
        [
         "853401",
         "18.63",
         "25.11",
         "0.2319",
         "0.1064"
        ],
        [
         "853612",
         "11.84",
         "18.7",
         "0.1218",
         "0.1109"
        ],
        [
         "85382601",
         "17.02",
         "23.98",
         "0.2417",
         "0.1197"
        ],
        [
         "854002",
         "19.27",
         "26.47",
         "0.1657",
         "0.09401"
        ],
        [
         "854039",
         "16.13",
         "17.88",
         "0.1354",
         "0.104"
        ],
        [
         "854253",
         "16.74",
         "21.59",
         "0.1348",
         "0.0961"
        ],
        [
         "854268",
         "14.25",
         "21.72",
         "0.1319",
         "0.09823"
        ],
        [
         "854941",
         "13.03",
         "18.42",
         "0.02562",
         "0.08983"
        ],
        [
         "855133",
         "14.99",
         "25.2",
         "0.02398",
         "0.09387"
        ],
        [
         "855138",
         "13.48",
         "20.82",
         "0.1063",
         "0.1016"
        ],
        [
         "855167",
         "13.44",
         "21.58",
         "0.0311",
         "0.08162"
        ],
        [
         "855563",
         "10.95",
         "21.35",
         "0.1044",
         "0.1227"
        ],
        [
         "855625",
         "19.07",
         "24.81",
         "0.2107",
         "0.09081"
        ],
        [
         "856106",
         "13.28",
         "20.28",
         "0.09847",
         "0.1041"
        ],
        [
         "85638502",
         "13.17",
         "21.81",
         "0.08259",
         "0.09714"
        ],
        [
         "857010",
         "18.65",
         "17.6",
         "0.1974",
         "0.1099"
        ],
        [
         "85713702",
         "8.196",
         "16.84",
         "0.01588",
         "0.086"
        ],
        [
         "85715",
         "13.17",
         "18.66",
         "0.1226",
         "0.1158"
        ],
        [
         "857155",
         "12.05",
         "14.63",
         "0.06592",
         "0.1031"
        ],
        [
         "857156",
         "13.49",
         "22.3",
         "0.04751",
         "0.08752"
        ]
       ],
       "shape": {
        "columns": 4,
        "rows": 569
       }
      },
      "text/html": [
       "<div>\n",
       "<style scoped>\n",
       "    .dataframe tbody tr th:only-of-type {\n",
       "        vertical-align: middle;\n",
       "    }\n",
       "\n",
       "    .dataframe tbody tr th {\n",
       "        vertical-align: top;\n",
       "    }\n",
       "\n",
       "    .dataframe thead th {\n",
       "        text-align: right;\n",
       "    }\n",
       "</style>\n",
       "<table border=\"1\" class=\"dataframe\">\n",
       "  <thead>\n",
       "    <tr style=\"text-align: right;\">\n",
       "      <th></th>\n",
       "      <th>radius_mean</th>\n",
       "      <th>texture_mean</th>\n",
       "      <th>concavity_mean</th>\n",
       "      <th>smoothness_mean</th>\n",
       "    </tr>\n",
       "    <tr>\n",
       "      <th>id</th>\n",
       "      <th></th>\n",
       "      <th></th>\n",
       "      <th></th>\n",
       "      <th></th>\n",
       "    </tr>\n",
       "  </thead>\n",
       "  <tbody>\n",
       "    <tr>\n",
       "      <th>842302</th>\n",
       "      <td>17.99</td>\n",
       "      <td>10.38</td>\n",
       "      <td>0.30010</td>\n",
       "      <td>0.11840</td>\n",
       "    </tr>\n",
       "    <tr>\n",
       "      <th>842517</th>\n",
       "      <td>20.57</td>\n",
       "      <td>17.77</td>\n",
       "      <td>0.08690</td>\n",
       "      <td>0.08474</td>\n",
       "    </tr>\n",
       "    <tr>\n",
       "      <th>84300903</th>\n",
       "      <td>19.69</td>\n",
       "      <td>21.25</td>\n",
       "      <td>0.19740</td>\n",
       "      <td>0.10960</td>\n",
       "    </tr>\n",
       "    <tr>\n",
       "      <th>84348301</th>\n",
       "      <td>11.42</td>\n",
       "      <td>20.38</td>\n",
       "      <td>0.24140</td>\n",
       "      <td>0.14250</td>\n",
       "    </tr>\n",
       "    <tr>\n",
       "      <th>84358402</th>\n",
       "      <td>20.29</td>\n",
       "      <td>14.34</td>\n",
       "      <td>0.19800</td>\n",
       "      <td>0.10030</td>\n",
       "    </tr>\n",
       "    <tr>\n",
       "      <th>...</th>\n",
       "      <td>...</td>\n",
       "      <td>...</td>\n",
       "      <td>...</td>\n",
       "      <td>...</td>\n",
       "    </tr>\n",
       "    <tr>\n",
       "      <th>926424</th>\n",
       "      <td>21.56</td>\n",
       "      <td>22.39</td>\n",
       "      <td>0.24390</td>\n",
       "      <td>0.11100</td>\n",
       "    </tr>\n",
       "    <tr>\n",
       "      <th>926682</th>\n",
       "      <td>20.13</td>\n",
       "      <td>28.25</td>\n",
       "      <td>0.14400</td>\n",
       "      <td>0.09780</td>\n",
       "    </tr>\n",
       "    <tr>\n",
       "      <th>926954</th>\n",
       "      <td>16.60</td>\n",
       "      <td>28.08</td>\n",
       "      <td>0.09251</td>\n",
       "      <td>0.08455</td>\n",
       "    </tr>\n",
       "    <tr>\n",
       "      <th>927241</th>\n",
       "      <td>20.60</td>\n",
       "      <td>29.33</td>\n",
       "      <td>0.35140</td>\n",
       "      <td>0.11780</td>\n",
       "    </tr>\n",
       "    <tr>\n",
       "      <th>92751</th>\n",
       "      <td>7.76</td>\n",
       "      <td>24.54</td>\n",
       "      <td>0.00000</td>\n",
       "      <td>0.05263</td>\n",
       "    </tr>\n",
       "  </tbody>\n",
       "</table>\n",
       "<p>569 rows × 4 columns</p>\n",
       "</div>"
      ],
      "text/plain": [
       "          radius_mean  texture_mean  concavity_mean  smoothness_mean\n",
       "id                                                                  \n",
       "842302          17.99         10.38         0.30010          0.11840\n",
       "842517          20.57         17.77         0.08690          0.08474\n",
       "84300903        19.69         21.25         0.19740          0.10960\n",
       "84348301        11.42         20.38         0.24140          0.14250\n",
       "84358402        20.29         14.34         0.19800          0.10030\n",
       "...               ...           ...             ...              ...\n",
       "926424          21.56         22.39         0.24390          0.11100\n",
       "926682          20.13         28.25         0.14400          0.09780\n",
       "926954          16.60         28.08         0.09251          0.08455\n",
       "927241          20.60         29.33         0.35140          0.11780\n",
       "92751            7.76         24.54         0.00000          0.05263\n",
       "\n",
       "[569 rows x 4 columns]"
      ]
     },
     "execution_count": 3,
     "metadata": {},
     "output_type": "execute_result"
    }
   ],
   "source": [
    "# load data\n",
    "cancer = pd.read_csv('breast_cancer.csv', index_col=\"id\")\n",
    "cancer.dropna(axis=1, inplace=True)\n",
    "\n",
    "# use only selected features\n",
    "selected_features = [\"radius_mean\", \"texture_mean\", \"concavity_mean\", \"smoothness_mean\"]\n",
    "cancer_selected = cancer[selected_features]\n",
    "\n",
    "cancer_selected"
   ]
  },
  {
   "cell_type": "code",
   "execution_count": 4,
   "metadata": {},
   "outputs": [
    {
     "data": {
      "application/vnd.microsoft.datawrangler.viewer.v0+json": {
       "columns": [
        {
         "name": "id",
         "rawType": "int64",
         "type": "integer"
        },
        {
         "name": "radius_mean",
         "rawType": "float64",
         "type": "float"
        },
        {
         "name": "texture_mean",
         "rawType": "float64",
         "type": "float"
        },
        {
         "name": "concavity_mean",
         "rawType": "float64",
         "type": "float"
        },
        {
         "name": "smoothness_mean",
         "rawType": "float64",
         "type": "float"
        }
       ],
       "ref": "febdb938-b381-486d-a6bd-3bcb28aa58ec",
       "rows": [
        [
         "842302",
         "1.0970639814699839",
         "-2.073335014697587",
         "2.652873983743169",
         "1.5684663292434209"
        ],
        [
         "842517",
         "1.8298206075464492",
         "-0.35363240824380465",
         "-0.023845855198768924",
         "-0.8269624468508493"
        ],
        [
         "84300903",
         "1.5798881149312212",
         "0.45618695176420127",
         "1.3634784515699185",
         "0.9422104400684482"
        ],
        [
         "84348301",
         "-0.7689092872596179",
         "0.25373211176219956",
         "1.915897180056998",
         "3.2835534802794237"
        ],
        [
         "84358402",
         "1.7502966326234215",
         "-1.1518164326195115",
         "1.3710114342311062",
         "0.28037182991762494"
        ],
        [
         "843786",
         "-0.47637466522133953",
         "-0.8353353034209806",
         "0.8663015959315473",
         "2.2374214835894137"
        ],
        [
         "844359",
         "1.170907672469938",
         "0.1606494267038084",
         "0.30007239923229106",
         "-0.12313622594852167"
        ],
        [
         "84458202",
         "-0.11851677806771677",
         "0.3584501324528898",
         "0.061025749450609464",
         "1.6040490502192717"
        ],
        [
         "844981",
         "-0.32016685733682165",
         "0.5888297779724092",
         "1.2190962838971595",
         "2.201838762613563"
        ],
        [
         "84501001",
         "-0.47353452325980244",
         "1.1054386800464815",
         "1.738872087519093",
         "1.5826994176337605"
        ],
        [
         "845636",
         "0.5375560150472571",
         "0.9192733099296985",
         "-0.7006843473064609",
         "-1.0176858312814092"
        ],
        [
         "84610002",
         "0.46939260797037663",
         "-0.325707602726287",
         "0.13484897953024655",
         "0.05264241567218082"
        ],
        [
         "846226",
         "1.4322007329313136",
         "1.2822957816574256",
         "1.4777286885979282",
         "0.07399204825769087"
        ],
        [
         "846381",
         "0.48927360170113354",
         "1.0844950759083436",
         "0.1328401841539298",
         "-0.878913219475591"
        ],
        [
         "84667401",
         "-0.11283649414464351",
         "0.7726680809627321",
         "1.5568250065403961",
         "1.1912894868994035"
        ],
        [
         "84799002",
         "0.11721500473982761",
         "1.919912174307407",
         "0.9428869196536196",
         "1.2482218404607641"
        ],
        [
         "848406",
         "0.15697699220134137",
         "0.19555543360070488",
         "-0.18643273096939797",
         "0.16437215953635118"
        ],
        [
         "84862001",
         "0.5687975766241605",
         "0.3235441255559933",
         "1.0470931798000458",
         "1.468834710511039"
        ],
        [
         "849014",
         "1.6139698184696607",
         "0.6656229931455817",
         "0.7420073820219546",
         "0.13875260043373874"
        ],
        [
         "8510426",
         "-0.1667991914138409",
         "-1.1471622983665921",
         "-0.27820956972486494",
         "0.10174657061885452"
        ],
        [
         "8510653",
         "-0.29744572164452815",
         "-0.8330082362945205",
         "-0.5413617640223464",
         "0.792763011969875"
        ],
        [
         "8510824",
         "-1.313080487090047",
         "-1.593959186646871",
         "-0.743747898186249",
         "0.42981925801619825"
        ],
        [
         "8511133",
         "0.34442636166276264",
         "-1.1704329696311897",
         "1.492794653920303",
         "0.7785299235795353"
        ],
        [
         "851509",
         "1.9973889832771135",
         "0.8727319674005029",
         "0.262407485926354",
         "-0.14804413063161737"
        ],
        [
         "852552",
         "0.716484958624068",
         "0.48643882440817826",
         "0.7997602490910583",
         "1.120124044947702"
        ],
        [
         "852631",
         "0.8556519147393662",
         "-0.6724406045687957",
         "1.6836302146703848",
         "1.5826994176337605"
        ],
        [
         "852763",
         "0.12857557258597463",
         "0.5213448313050756",
         "0.6742105380712673",
         "0.6433155838713017"
        ],
        [
         "852781",
         "1.2731527830852585",
         "0.22348023911822257",
         "0.7558178502341314",
         "-0.13950427759741355"
        ],
        [
         "852973",
         "0.33306579381661616",
         "1.3916679366010354",
         "0.9981287925023277",
         "0.8425788213360664"
        ],
        [
         "853201",
         "0.9777780190854436",
         "-0.9865946666408664",
         "0.12493055235968309",
         "0.1501390711460115"
        ],
        [
         "853401",
         "1.2788330670083319",
         "1.3544348625776788",
         "1.7966249545881967",
         "0.7144810258230031"
        ],
        [
         "853612",
         "-0.6496233248750772",
         "-0.13721516548304458",
         "0.41432263626030075",
         "1.0347255146056598"
        ],
        [
         "85382601",
         "0.8215702112009257",
         "1.0914762772877231",
         "1.9196636713875916",
         "1.6609814037806323"
        ],
        [
         "854002",
         "1.46060215254668",
         "1.6709159917762098",
         "0.9654858676371818",
         "-0.1672587999585772"
        ],
        [
         "854039",
         "0.5687975766241605",
         "-0.32803466985274715",
         "0.585070243247216",
         "0.5436839651389198"
        ],
        [
         "854253",
         "0.7420462362778981",
         "0.535307234063834",
         "0.5775372605860287",
         "-0.018523026279520655"
        ],
        [
         "854268",
         "0.03485088785526399",
         "0.565559106707811",
         "0.5411278443902892",
         "0.13305936507760285"
        ],
        [
         "854941",
         "-0.31164643145221177",
         "-0.20237304502391804",
         "-0.7932144843280465",
         "-0.46473034731668933"
        ],
        [
         "855133",
         "0.24502139300897877",
         "1.3753784667158169",
         "-0.8138046369352923",
         "-0.1772219618318155"
        ],
        [
         "855138",
         "-0.18384004318306066",
         "0.35612306532643045",
         "0.21972058417962512",
         "0.37288690445483647"
        ],
        [
         "855167",
         "-0.19520061102920766",
         "0.5329801669373738",
         "-0.7244132426892013",
         "-1.0489986257401576"
        ],
        [
         "855563",
         "-0.9023959594518424",
         "0.47945762302879946",
         "0.1958661390858649",
         "1.874477729635737"
        ],
        [
         "855625",
         "1.4037993133159463",
         "1.284622848783885",
         "1.5304595672262402",
         "-0.39498821420402136"
        ],
        [
         "856106",
         "-0.24064288241379467",
         "0.23046144049760217",
         "0.12141516045112892",
         "0.5508005093340902"
        ],
        [
         "85638502",
         "-0.27188444399069805",
         "0.586502710845949",
         "-0.07795778064829884",
         "0.05548903335024876"
        ],
        [
         "857010",
         "1.284513350931405",
         "-0.39319254939362064",
         "1.3634784515699185",
         "0.9635600726539583"
        ],
        [
         "85713702",
         "-1.6845710556590454",
         "-0.5700496510045647",
         "-0.9154999028613228",
         "-0.7372939899917057"
        ],
        [
         "85715",
         "-0.27188444399069805",
         "-0.1465234339888835",
         "0.42436661314188395",
         "1.3834361801689967"
        ],
        [
         "857155",
         "-0.5899803436828065",
         "-1.0843314859521775",
         "-0.2872491489182899",
         "0.4796350673823887"
        ],
        [
         "857156",
         "-0.180999901221524",
         "0.700529000042479",
         "-0.5183861669057247",
         "-0.6291225182251191"
        ]
       ],
       "shape": {
        "columns": 4,
        "rows": 569
       }
      },
      "text/html": [
       "<div>\n",
       "<style scoped>\n",
       "    .dataframe tbody tr th:only-of-type {\n",
       "        vertical-align: middle;\n",
       "    }\n",
       "\n",
       "    .dataframe tbody tr th {\n",
       "        vertical-align: top;\n",
       "    }\n",
       "\n",
       "    .dataframe thead th {\n",
       "        text-align: right;\n",
       "    }\n",
       "</style>\n",
       "<table border=\"1\" class=\"dataframe\">\n",
       "  <thead>\n",
       "    <tr style=\"text-align: right;\">\n",
       "      <th></th>\n",
       "      <th>radius_mean</th>\n",
       "      <th>texture_mean</th>\n",
       "      <th>concavity_mean</th>\n",
       "      <th>smoothness_mean</th>\n",
       "    </tr>\n",
       "    <tr>\n",
       "      <th>id</th>\n",
       "      <th></th>\n",
       "      <th></th>\n",
       "      <th></th>\n",
       "      <th></th>\n",
       "    </tr>\n",
       "  </thead>\n",
       "  <tbody>\n",
       "    <tr>\n",
       "      <th>842302</th>\n",
       "      <td>1.097064</td>\n",
       "      <td>-2.073335</td>\n",
       "      <td>2.652874</td>\n",
       "      <td>1.568466</td>\n",
       "    </tr>\n",
       "    <tr>\n",
       "      <th>842517</th>\n",
       "      <td>1.829821</td>\n",
       "      <td>-0.353632</td>\n",
       "      <td>-0.023846</td>\n",
       "      <td>-0.826962</td>\n",
       "    </tr>\n",
       "    <tr>\n",
       "      <th>84300903</th>\n",
       "      <td>1.579888</td>\n",
       "      <td>0.456187</td>\n",
       "      <td>1.363478</td>\n",
       "      <td>0.942210</td>\n",
       "    </tr>\n",
       "    <tr>\n",
       "      <th>84348301</th>\n",
       "      <td>-0.768909</td>\n",
       "      <td>0.253732</td>\n",
       "      <td>1.915897</td>\n",
       "      <td>3.283553</td>\n",
       "    </tr>\n",
       "    <tr>\n",
       "      <th>84358402</th>\n",
       "      <td>1.750297</td>\n",
       "      <td>-1.151816</td>\n",
       "      <td>1.371011</td>\n",
       "      <td>0.280372</td>\n",
       "    </tr>\n",
       "    <tr>\n",
       "      <th>...</th>\n",
       "      <td>...</td>\n",
       "      <td>...</td>\n",
       "      <td>...</td>\n",
       "      <td>...</td>\n",
       "    </tr>\n",
       "    <tr>\n",
       "      <th>926424</th>\n",
       "      <td>2.110995</td>\n",
       "      <td>0.721473</td>\n",
       "      <td>1.947285</td>\n",
       "      <td>1.041842</td>\n",
       "    </tr>\n",
       "    <tr>\n",
       "      <th>926682</th>\n",
       "      <td>1.704854</td>\n",
       "      <td>2.085134</td>\n",
       "      <td>0.693043</td>\n",
       "      <td>0.102458</td>\n",
       "    </tr>\n",
       "    <tr>\n",
       "      <th>926954</th>\n",
       "      <td>0.702284</td>\n",
       "      <td>2.045574</td>\n",
       "      <td>0.046588</td>\n",
       "      <td>-0.840484</td>\n",
       "    </tr>\n",
       "    <tr>\n",
       "      <th>927241</th>\n",
       "      <td>1.838341</td>\n",
       "      <td>2.336457</td>\n",
       "      <td>3.296944</td>\n",
       "      <td>1.525767</td>\n",
       "    </tr>\n",
       "    <tr>\n",
       "      <th>92751</th>\n",
       "      <td>-1.808401</td>\n",
       "      <td>1.221792</td>\n",
       "      <td>-1.114873</td>\n",
       "      <td>-3.112085</td>\n",
       "    </tr>\n",
       "  </tbody>\n",
       "</table>\n",
       "<p>569 rows × 4 columns</p>\n",
       "</div>"
      ],
      "text/plain": [
       "          radius_mean  texture_mean  concavity_mean  smoothness_mean\n",
       "id                                                                  \n",
       "842302       1.097064     -2.073335        2.652874         1.568466\n",
       "842517       1.829821     -0.353632       -0.023846        -0.826962\n",
       "84300903     1.579888      0.456187        1.363478         0.942210\n",
       "84348301    -0.768909      0.253732        1.915897         3.283553\n",
       "84358402     1.750297     -1.151816        1.371011         0.280372\n",
       "...               ...           ...             ...              ...\n",
       "926424       2.110995      0.721473        1.947285         1.041842\n",
       "926682       1.704854      2.085134        0.693043         0.102458\n",
       "926954       0.702284      2.045574        0.046588        -0.840484\n",
       "927241       1.838341      2.336457        3.296944         1.525767\n",
       "92751       -1.808401      1.221792       -1.114873        -3.112085\n",
       "\n",
       "[569 rows x 4 columns]"
      ]
     },
     "execution_count": 4,
     "metadata": {},
     "output_type": "execute_result"
    }
   ],
   "source": [
    "# standardize features\n",
    "scaler = StandardScaler()\n",
    "cancer_scaled = pd.DataFrame(scaler.fit_transform(cancer_selected),\n",
    "                             columns=selected_features,\n",
    "                             index=cancer.index)\n",
    "\n",
    "cancer_scaled"
   ]
  },
  {
   "cell_type": "code",
   "execution_count": 5,
   "metadata": {},
   "outputs": [
    {
     "data": {
      "image/png": "[encoded data removed]",
      "text/plain": [
       "<Figure size 1200x500 with 2 Axes>"
      ]
     },
     "metadata": {},
     "output_type": "display_data"
    }
   ],
   "source": [
    "# determine number of clusters via elbow method\n",
    "clusters = []\n",
    "losses = []\n",
    "\n",
    "for i in range(20):\n",
    "    model = KMeans(n_clusters=i+1, n_init=10)\n",
    "    model.fit(cancer_scaled)\n",
    "    clusters.append(i+1)\n",
    "    losses.append(model.inertia_)\n",
    "\n",
    "# Plot\n",
    "fig, axes = plt.subplots(1, 2, figsize=(12, 5))  # 1 row, 2 columns\n",
    "\n",
    "# Full elbow plot\n",
    "axes[0].plot(clusters, losses, marker='o')\n",
    "axes[0].set_xticks(range(1, 21))\n",
    "axes[0].set_xlabel(\"Number of Clusters\")\n",
    "axes[0].set_ylabel(\"Inertia\")\n",
    "axes[0].set_title(\"Elbow Method (Full Range)\")\n",
    "\n",
    "# Zoomed-in elbow plot\n",
    "axes[1].plot(clusters, losses, marker='o')\n",
    "axes[1].set_xlim([1, 10])\n",
    "axes[1].set_xlabel(\"Number of Clusters\")\n",
    "axes[1].set_ylabel(\"Inertia\")\n",
    "axes[1].set_title(\"Elbow Method (Zoomed In)\")\n",
    "\n",
    "plt.tight_layout()\n",
    "plt.show()"
   ]
  },
  {
   "cell_type": "code",
   "execution_count": 6,
   "metadata": {},
   "outputs": [
    {
     "data": {
      "text/html": [
       "<style>#sk-container-id-1 {\n",
       "  /* Definition of color scheme common for light and dark mode */\n",
       "  --sklearn-color-text: #000;\n",
       "  --sklearn-color-text-muted: #666;\n",
       "  --sklearn-color-line: gray;\n",
       "  /* Definition of color scheme for unfitted estimators */\n",
       "  --sklearn-color-unfitted-level-0: #fff5e6;\n",
       "  --sklearn-color-unfitted-level-1: #f6e4d2;\n",
       "  --sklearn-color-unfitted-level-2: #ffe0b3;\n",
       "  --sklearn-color-unfitted-level-3: chocolate;\n",
       "  /* Definition of color scheme for fitted estimators */\n",
       "  --sklearn-color-fitted-level-0: #f0f8ff;\n",
       "  --sklearn-color-fitted-level-1: #d4ebff;\n",
       "  --sklearn-color-fitted-level-2: #b3dbfd;\n",
       "  --sklearn-color-fitted-level-3: cornflowerblue;\n",
       "\n",
       "  /* Specific color for light theme */\n",
       "  --sklearn-color-text-on-default-background: var(--sg-text-color, var(--theme-code-foreground, var(--jp-content-font-color1, black)));\n",
       "  --sklearn-color-background: var(--sg-background-color, var(--theme-background, var(--jp-layout-color0, white)));\n",
       "  --sklearn-color-border-box: var(--sg-text-color, var(--theme-code-foreground, var(--jp-content-font-color1, black)));\n",
       "  --sklearn-color-icon: #696969;\n",
       "\n",
       "  @media (prefers-color-scheme: dark) {\n",
       "    /* Redefinition of color scheme for dark theme */\n",
       "    --sklearn-color-text-on-default-background: var(--sg-text-color, var(--theme-code-foreground, var(--jp-content-font-color1, white)));\n",
       "    --sklearn-color-background: var(--sg-background-color, var(--theme-background, var(--jp-layout-color0, #111)));\n",
       "    --sklearn-color-border-box: var(--sg-text-color, var(--theme-code-foreground, var(--jp-content-font-color1, white)));\n",
       "    --sklearn-color-icon: #878787;\n",
       "  }\n",
       "}\n",
       "\n",
       "#sk-container-id-1 {\n",
       "  color: var(--sklearn-color-text);\n",
       "}\n",
       "\n",
       "#sk-container-id-1 pre {\n",
       "  padding: 0;\n",
       "}\n",
       "\n",
       "#sk-container-id-1 input.sk-hidden--visually {\n",
       "  border: 0;\n",
       "  clip: rect(1px 1px 1px 1px);\n",
       "  clip: rect(1px, 1px, 1px, 1px);\n",
       "  height: 1px;\n",
       "  margin: -1px;\n",
       "  overflow: hidden;\n",
       "  padding: 0;\n",
       "  position: absolute;\n",
       "  width: 1px;\n",
       "}\n",
       "\n",
       "#sk-container-id-1 div.sk-dashed-wrapped {\n",
       "  border: 1px dashed var(--sklearn-color-line);\n",
       "  margin: 0 0.4em 0.5em 0.4em;\n",
       "  box-sizing: border-box;\n",
       "  padding-bottom: 0.4em;\n",
       "  background-color: var(--sklearn-color-background);\n",
       "}\n",
       "\n",
       "#sk-container-id-1 div.sk-container {\n",
       "  /* jupyter's `normalize.less` sets `[hidden] { display: none; }`\n",
       "     but bootstrap.min.css set `[hidden] { display: none !important; }`\n",
       "     so we also need the `!important` here to be able to override the\n",
       "     default hidden behavior on the sphinx rendered scikit-learn.org.\n",
       "     See: https://github.com/scikit-learn/scikit-learn/issues/21755 */\n",
       "  display: inline-block !important;\n",
       "  position: relative;\n",
       "}\n",
       "\n",
       "#sk-container-id-1 div.sk-text-repr-fallback {\n",
       "  display: none;\n",
       "}\n",
       "\n",
       "div.sk-parallel-item,\n",
       "div.sk-serial,\n",
       "div.sk-item {\n",
       "  /* draw centered vertical line to link estimators */\n",
       "  background-image: linear-gradient(var(--sklearn-color-text-on-default-background), var(--sklearn-color-text-on-default-background));\n",
       "  background-size: 2px 100%;\n",
       "  background-repeat: no-repeat;\n",
       "  background-position: center center;\n",
       "}\n",
       "\n",
       "/* Parallel-specific style estimator block */\n",
       "\n",
       "#sk-container-id-1 div.sk-parallel-item::after {\n",
       "  content: \"\";\n",
       "  width: 100%;\n",
       "  border-bottom: 2px solid var(--sklearn-color-text-on-default-background);\n",
       "  flex-grow: 1;\n",
       "}\n",
       "\n",
       "#sk-container-id-1 div.sk-parallel {\n",
       "  display: flex;\n",
       "  align-items: stretch;\n",
       "  justify-content: center;\n",
       "  background-color: var(--sklearn-color-background);\n",
       "  position: relative;\n",
       "}\n",
       "\n",
       "#sk-container-id-1 div.sk-parallel-item {\n",
       "  display: flex;\n",
       "  flex-direction: column;\n",
       "}\n",
       "\n",
       "#sk-container-id-1 div.sk-parallel-item:first-child::after {\n",
       "  align-self: flex-end;\n",
       "  width: 50%;\n",
       "}\n",
       "\n",
       "#sk-container-id-1 div.sk-parallel-item:last-child::after {\n",
       "  align-self: flex-start;\n",
       "  width: 50%;\n",
       "}\n",
       "\n",
       "#sk-container-id-1 div.sk-parallel-item:only-child::after {\n",
       "  width: 0;\n",
       "}\n",
       "\n",
       "/* Serial-specific style estimator block */\n",
       "\n",
       "#sk-container-id-1 div.sk-serial {\n",
       "  display: flex;\n",
       "  flex-direction: column;\n",
       "  align-items: center;\n",
       "  background-color: var(--sklearn-color-background);\n",
       "  padding-right: 1em;\n",
       "  padding-left: 1em;\n",
       "}\n",
       "\n",
       "\n",
       "/* Toggleable style: style used for estimator/Pipeline/ColumnTransformer box that is\n",
       "clickable and can be expanded/collapsed.\n",
       "- Pipeline and ColumnTransformer use this feature and define the default style\n",
       "- Estimators will overwrite some part of the style using the `sk-estimator` class\n",
       "*/\n",
       "\n",
       "/* Pipeline and ColumnTransformer style (default) */\n",
       "\n",
       "#sk-container-id-1 div.sk-toggleable {\n",
       "  /* Default theme specific background. It is overwritten whether we have a\n",
       "  specific estimator or a Pipeline/ColumnTransformer */\n",
       "  background-color: var(--sklearn-color-background);\n",
       "}\n",
       "\n",
       "/* Toggleable label */\n",
       "#sk-container-id-1 label.sk-toggleable__label {\n",
       "  cursor: pointer;\n",
       "  display: flex;\n",
       "  width: 100%;\n",
       "  margin-bottom: 0;\n",
       "  padding: 0.5em;\n",
       "  box-sizing: border-box;\n",
       "  text-align: center;\n",
       "  align-items: start;\n",
       "  justify-content: space-between;\n",
       "  gap: 0.5em;\n",
       "}\n",
       "\n",
       "#sk-container-id-1 label.sk-toggleable__label .caption {\n",
       "  font-size: 0.6rem;\n",
       "  font-weight: lighter;\n",
       "  color: var(--sklearn-color-text-muted);\n",
       "}\n",
       "\n",
       "#sk-container-id-1 label.sk-toggleable__label-arrow:before {\n",
       "  /* Arrow on the left of the label */\n",
       "  content: \"▸\";\n",
       "  float: left;\n",
       "  margin-right: 0.25em;\n",
       "  color: var(--sklearn-color-icon);\n",
       "}\n",
       "\n",
       "#sk-container-id-1 label.sk-toggleable__label-arrow:hover:before {\n",
       "  color: var(--sklearn-color-text);\n",
       "}\n",
       "\n",
       "/* Toggleable content - dropdown */\n",
       "\n",
       "#sk-container-id-1 div.sk-toggleable__content {\n",
       "  max-height: 0;\n",
       "  max-width: 0;\n",
       "  overflow: hidden;\n",
       "  text-align: left;\n",
       "  /* unfitted */\n",
       "  background-color: var(--sklearn-color-unfitted-level-0);\n",
       "}\n",
       "\n",
       "#sk-container-id-1 div.sk-toggleable__content.fitted {\n",
       "  /* fitted */\n",
       "  background-color: var(--sklearn-color-fitted-level-0);\n",
       "}\n",
       "\n",
       "#sk-container-id-1 div.sk-toggleable__content pre {\n",
       "  margin: 0.2em;\n",
       "  border-radius: 0.25em;\n",
       "  color: var(--sklearn-color-text);\n",
       "  /* unfitted */\n",
       "  background-color: var(--sklearn-color-unfitted-level-0);\n",
       "}\n",
       "\n",
       "#sk-container-id-1 div.sk-toggleable__content.fitted pre {\n",
       "  /* unfitted */\n",
       "  background-color: var(--sklearn-color-fitted-level-0);\n",
       "}\n",
       "\n",
       "#sk-container-id-1 input.sk-toggleable__control:checked~div.sk-toggleable__content {\n",
       "  /* Expand drop-down */\n",
       "  max-height: 200px;\n",
       "  max-width: 100%;\n",
       "  overflow: auto;\n",
       "}\n",
       "\n",
       "#sk-container-id-1 input.sk-toggleable__control:checked~label.sk-toggleable__label-arrow:before {\n",
       "  content: \"▾\";\n",
       "}\n",
       "\n",
       "/* Pipeline/ColumnTransformer-specific style */\n",
       "\n",
       "#sk-container-id-1 div.sk-label input.sk-toggleable__control:checked~label.sk-toggleable__label {\n",
       "  color: var(--sklearn-color-text);\n",
       "  background-color: var(--sklearn-color-unfitted-level-2);\n",
       "}\n",
       "\n",
       "#sk-container-id-1 div.sk-label.fitted input.sk-toggleable__control:checked~label.sk-toggleable__label {\n",
       "  background-color: var(--sklearn-color-fitted-level-2);\n",
       "}\n",
       "\n",
       "/* Estimator-specific style */\n",
       "\n",
       "/* Colorize estimator box */\n",
       "#sk-container-id-1 div.sk-estimator input.sk-toggleable__control:checked~label.sk-toggleable__label {\n",
       "  /* unfitted */\n",
       "  background-color: var(--sklearn-color-unfitted-level-2);\n",
       "}\n",
       "\n",
       "#sk-container-id-1 div.sk-estimator.fitted input.sk-toggleable__control:checked~label.sk-toggleable__label {\n",
       "  /* fitted */\n",
       "  background-color: var(--sklearn-color-fitted-level-2);\n",
       "}\n",
       "\n",
       "#sk-container-id-1 div.sk-label label.sk-toggleable__label,\n",
       "#sk-container-id-1 div.sk-label label {\n",
       "  /* The background is the default theme color */\n",
       "  color: var(--sklearn-color-text-on-default-background);\n",
       "}\n",
       "\n",
       "/* On hover, darken the color of the background */\n",
       "#sk-container-id-1 div.sk-label:hover label.sk-toggleable__label {\n",
       "  color: var(--sklearn-color-text);\n",
       "  background-color: var(--sklearn-color-unfitted-level-2);\n",
       "}\n",
       "\n",
       "/* Label box, darken color on hover, fitted */\n",
       "#sk-container-id-1 div.sk-label.fitted:hover label.sk-toggleable__label.fitted {\n",
       "  color: var(--sklearn-color-text);\n",
       "  background-color: var(--sklearn-color-fitted-level-2);\n",
       "}\n",
       "\n",
       "/* Estimator label */\n",
       "\n",
       "#sk-container-id-1 div.sk-label label {\n",
       "  font-family: monospace;\n",
       "  font-weight: bold;\n",
       "  display: inline-block;\n",
       "  line-height: 1.2em;\n",
       "}\n",
       "\n",
       "#sk-container-id-1 div.sk-label-container {\n",
       "  text-align: center;\n",
       "}\n",
       "\n",
       "/* Estimator-specific */\n",
       "#sk-container-id-1 div.sk-estimator {\n",
       "  font-family: monospace;\n",
       "  border: 1px dotted var(--sklearn-color-border-box);\n",
       "  border-radius: 0.25em;\n",
       "  box-sizing: border-box;\n",
       "  margin-bottom: 0.5em;\n",
       "  /* unfitted */\n",
       "  background-color: var(--sklearn-color-unfitted-level-0);\n",
       "}\n",
       "\n",
       "#sk-container-id-1 div.sk-estimator.fitted {\n",
       "  /* fitted */\n",
       "  background-color: var(--sklearn-color-fitted-level-0);\n",
       "}\n",
       "\n",
       "/* on hover */\n",
       "#sk-container-id-1 div.sk-estimator:hover {\n",
       "  /* unfitted */\n",
       "  background-color: var(--sklearn-color-unfitted-level-2);\n",
       "}\n",
       "\n",
       "#sk-container-id-1 div.sk-estimator.fitted:hover {\n",
       "  /* fitted */\n",
       "  background-color: var(--sklearn-color-fitted-level-2);\n",
       "}\n",
       "\n",
       "/* Specification for estimator info (e.g. \"i\" and \"?\") */\n",
       "\n",
       "/* Common style for \"i\" and \"?\" */\n",
       "\n",
       ".sk-estimator-doc-link,\n",
       "a:link.sk-estimator-doc-link,\n",
       "a:visited.sk-estimator-doc-link {\n",
       "  float: right;\n",
       "  font-size: smaller;\n",
       "  line-height: 1em;\n",
       "  font-family: monospace;\n",
       "  background-color: var(--sklearn-color-background);\n",
       "  border-radius: 1em;\n",
       "  height: 1em;\n",
       "  width: 1em;\n",
       "  text-decoration: none !important;\n",
       "  margin-left: 0.5em;\n",
       "  text-align: center;\n",
       "  /* unfitted */\n",
       "  border: var(--sklearn-color-unfitted-level-1) 1pt solid;\n",
       "  color: var(--sklearn-color-unfitted-level-1);\n",
       "}\n",
       "\n",
       ".sk-estimator-doc-link.fitted,\n",
       "a:link.sk-estimator-doc-link.fitted,\n",
       "a:visited.sk-estimator-doc-link.fitted {\n",
       "  /* fitted */\n",
       "  border: var(--sklearn-color-fitted-level-1) 1pt solid;\n",
       "  color: var(--sklearn-color-fitted-level-1);\n",
       "}\n",
       "\n",
       "/* On hover */\n",
       "div.sk-estimator:hover .sk-estimator-doc-link:hover,\n",
       ".sk-estimator-doc-link:hover,\n",
       "div.sk-label-container:hover .sk-estimator-doc-link:hover,\n",
       ".sk-estimator-doc-link:hover {\n",
       "  /* unfitted */\n",
       "  background-color: var(--sklearn-color-unfitted-level-3);\n",
       "  color: var(--sklearn-color-background);\n",
       "  text-decoration: none;\n",
       "}\n",
       "\n",
       "div.sk-estimator.fitted:hover .sk-estimator-doc-link.fitted:hover,\n",
       ".sk-estimator-doc-link.fitted:hover,\n",
       "div.sk-label-container:hover .sk-estimator-doc-link.fitted:hover,\n",
       ".sk-estimator-doc-link.fitted:hover {\n",
       "  /* fitted */\n",
       "  background-color: var(--sklearn-color-fitted-level-3);\n",
       "  color: var(--sklearn-color-background);\n",
       "  text-decoration: none;\n",
       "}\n",
       "\n",
       "/* Span, style for the box shown on hovering the info icon */\n",
       ".sk-estimator-doc-link span {\n",
       "  display: none;\n",
       "  z-index: 9999;\n",
       "  position: relative;\n",
       "  font-weight: normal;\n",
       "  right: .2ex;\n",
       "  padding: .5ex;\n",
       "  margin: .5ex;\n",
       "  width: min-content;\n",
       "  min-width: 20ex;\n",
       "  max-width: 50ex;\n",
       "  color: var(--sklearn-color-text);\n",
       "  box-shadow: 2pt 2pt 4pt #999;\n",
       "  /* unfitted */\n",
       "  background: var(--sklearn-color-unfitted-level-0);\n",
       "  border: .5pt solid var(--sklearn-color-unfitted-level-3);\n",
       "}\n",
       "\n",
       ".sk-estimator-doc-link.fitted span {\n",
       "  /* fitted */\n",
       "  background: var(--sklearn-color-fitted-level-0);\n",
       "  border: var(--sklearn-color-fitted-level-3);\n",
       "}\n",
       "\n",
       ".sk-estimator-doc-link:hover span {\n",
       "  display: block;\n",
       "}\n",
       "\n",
       "/* \"?\"-specific style due to the `<a>` HTML tag */\n",
       "\n",
       "#sk-container-id-1 a.estimator_doc_link {\n",
       "  float: right;\n",
       "  font-size: 1rem;\n",
       "  line-height: 1em;\n",
       "  font-family: monospace;\n",
       "  background-color: var(--sklearn-color-background);\n",
       "  border-radius: 1rem;\n",
       "  height: 1rem;\n",
       "  width: 1rem;\n",
       "  text-decoration: none;\n",
       "  /* unfitted */\n",
       "  color: var(--sklearn-color-unfitted-level-1);\n",
       "  border: var(--sklearn-color-unfitted-level-1) 1pt solid;\n",
       "}\n",
       "\n",
       "#sk-container-id-1 a.estimator_doc_link.fitted {\n",
       "  /* fitted */\n",
       "  border: var(--sklearn-color-fitted-level-1) 1pt solid;\n",
       "  color: var(--sklearn-color-fitted-level-1);\n",
       "}\n",
       "\n",
       "/* On hover */\n",
       "#sk-container-id-1 a.estimator_doc_link:hover {\n",
       "  /* unfitted */\n",
       "  background-color: var(--sklearn-color-unfitted-level-3);\n",
       "  color: var(--sklearn-color-background);\n",
       "  text-decoration: none;\n",
       "}\n",
       "\n",
       "#sk-container-id-1 a.estimator_doc_link.fitted:hover {\n",
       "  /* fitted */\n",
       "  background-color: var(--sklearn-color-fitted-level-3);\n",
       "}\n",
       "</style><div id=\"sk-container-id-1\" class=\"sk-top-container\"><div class=\"sk-text-repr-fallback\"><pre>KMeans(n_clusters=2, n_init=10)</pre><b>In a Jupyter environment, please rerun this cell to show the HTML representation or trust the notebook. <br />On GitHub, the HTML representation is unable to render, please try loading this page with nbviewer.org.</b></div><div class=\"sk-container\" hidden><div class=\"sk-item\"><div class=\"sk-estimator fitted sk-toggleable\"><input class=\"sk-toggleable__control sk-hidden--visually\" id=\"sk-estimator-id-1\" type=\"checkbox\" checked><label for=\"sk-estimator-id-1\" class=\"sk-toggleable__label fitted sk-toggleable__label-arrow\"><div><div>KMeans</div></div><div><a class=\"sk-estimator-doc-link fitted\" rel=\"noreferrer\" target=\"_blank\" href=\"https://scikit-learn.org/1.6/modules/generated/sklearn.cluster.KMeans.html\">?<span>Documentation for KMeans</span></a><span class=\"sk-estimator-doc-link fitted\">i<span>Fitted</span></span></div></label><div class=\"sk-toggleable__content fitted\"><pre>KMeans(n_clusters=2, n_init=10)</pre></div> </div></div></div></div>"
      ],
      "text/plain": [
       "KMeans(n_clusters=2, n_init=10)"
      ]
     },
     "execution_count": 6,
     "metadata": {},
     "output_type": "execute_result"
    }
   ],
   "source": [
    "# train model for chosen n clusters (i.e., 2)\n",
    "n=2\n",
    "model_final  = KMeans(n_clusters=n, n_init=10)\n",
    "model_final.fit(cancer_scaled)"
   ]
  },
  {
   "cell_type": "code",
   "execution_count": 7,
   "metadata": {},
   "outputs": [],
   "source": [
    "# prepare dataframe for plotting\n",
    "cancer_scaled[\"Cluster\"] = model_final.predict(cancer_scaled)\n",
    "cancer_scaled[\"Diagnosis\"] = cancer[\"diagnosis\"]"
   ]
  },
  {
   "cell_type": "code",
   "execution_count": 9,
   "metadata": {},
   "outputs": [
    {
     "data": {
      "image/png": "[encoded data removed]",
      "text/plain": [
       "<Figure size 1200x500 with 2 Axes>"
      ]
     },
     "metadata": {},
     "output_type": "display_data"
    }
   ],
   "source": [
    "# Set up figure with 2 subplots\n",
    "fig, axes = plt.subplots(1, 2, figsize=(12, 5))\n",
    "\n",
    "sns.scatterplot(x=\"radius_mean\", y=\"smoothness_mean\",\n",
    "                hue=\"Cluster\", data=cancer_scaled,\n",
    "                ax=axes[0])                                # Plot 1: KMeans Clusters\n",
    "axes[0].set_title(\"KMeans Clusters\")\n",
    "\n",
    "sns.scatterplot(x=\"radius_mean\", y=\"smoothness_mean\",\n",
    "                hue=\"Diagnosis\", data=cancer_scaled,\n",
    "                hue_order=[\"B\", \"M\"], ax=axes[1])\n",
    "axes[1].set_title(\"True Diagnosis\")                        # Plot 2: True Diagnosis Labels\n",
    "\n",
    "plt.tight_layout()\n",
    "plt.show()\n",
    "\n",
    "# Features: radius_mean, texture_mean, concavity_mean, smoothness_mean"
   ]
  }
 ],
 "metadata": {
  "kernelspec": {
   "display_name": "DSML_env",
   "language": "python",
   "name": "python3"
  },
  "language_info": {
   "codemirror_mode": {
    "name": "ipython",
    "version": 3
   },
   "file_extension": ".py",
   "mimetype": "text/x-python",
   "name": "python",
   "nbconvert_exporter": "python",
   "pygments_lexer": "ipython3",
   "version": "3.13.2"
  }
 },
 "nbformat": 4,
 "nbformat_minor": 2
}
