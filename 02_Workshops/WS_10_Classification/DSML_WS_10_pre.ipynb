{
 "cells": [
  {
   "cell_type": "markdown",
   "metadata": {},
   "source": [
    "# `DSML_WS_10` - Classification 1\n",
    "Please work on the following task **before** the tenth workshop session."
   ]
  },
  {
   "cell_type": "markdown",
   "metadata": {
    "vscode": {
     "languageId": "plaintext"
    }
   },
   "source": [
    "## 1. Introduction to Classification\n",
    "\n",
    "As an example to introduce classification problems, we're going to turn to a classical example from the machine learning literature, first presented in [[Street et al, 1993]](https://ftp.cs.wisc.edu/math-prog/cpo-dataset/machine-learn/cancer/WDBC/), namely identifying whether cancer cells from a biopsy are malignant or benign.  This was historically an important dataset in the intersection of machine learning and health care, and similar subjects are still a topic of very active research.  Of course, 25 years ago, the techniques were much more primitive and computationally less intensive than current approaches to similar problems, but the work has become a classical dataset in machine learning, and also represents a compelling applications.\n",
    "\n",
    "To create the data set, researchers took 569 images of cancerous cells, under a microscope, and manually selected the outlines of the different cells (this step is the kind of thing that would ideally be replaced by automatic computer vision architectures in current systems).  The resulting figures looked like this:\n",
    "\n",
    "![Image of (manually) selected outlines of cells under a microscope.](cancercells.png)\n",
    "\n",
    "The researchers then considered 10 different features of each cell, for instance the area, perimeter, texture, number of concave points (i.e., indentations), variance of grayscale color, and some others (a full list can be found in the above paper).  For each of these 10 features they computed the mean, max, and standard deviation of the feature across all the cells in the image, resulting in a 30 dimensional vector describing each sample.\n",
    "\n",
    "---"
   ]
  },
  {
   "cell_type": "markdown",
   "metadata": {},
   "source": [
    "In this workshop, we will build on our existing knowledge and use a linear regression model to classify cancer cells as malignant or benign based on their mean area. As discussed in the lecture, linear regression has certain limitations when applied to classification tasks. These should be considered carefully. To better understand these limitations, follow the steps below to build and evaluate your first classification model:"
   ]
  },
  {
   "cell_type": "code",
   "execution_count": null,
   "metadata": {},
   "outputs": [],
   "source": [
    "# Import Packages\n",
    "import numpy as np\n",
    "import pandas as pd\n",
    "\n",
    "import matplotlib.pyplot as plt\n",
    "from sklearn.linear_model import LinearRegression\n",
    "\n",
    "np.set_printoptions(suppress=True) # suppress scientific notation\n",
    "%matplotlib inline"
   ]
  },
  {
   "cell_type": "markdown",
   "metadata": {},
   "source": [
    "**Step 1:** Load the `breast_cancer.csv` dataset. The `diagnosis` column indicates whether the breast tissue is malignant (M) or benign (B).\n",
    "\n",
    "- How many samples are classified as benign or malignant in total?\n",
    "- Create a new variable called `diagnosis_rescaled`, and set it to 1 for malignant tumors and -1 for benign ones.\n",
    "\n",
    "*Note: You can use the `.map()` function from Workshop 7 for this.*\n"
   ]
  },
  {
   "cell_type": "code",
   "execution_count": null,
   "metadata": {},
   "outputs": [],
   "source": [
    "#### your code here ####"
   ]
  },
  {
   "cell_type": "markdown",
   "metadata": {},
   "source": [
    "**Step 2:** Preliminarily explore the relationship between cell-classification (`diagnosis_rescaled`) and the mean area of the cell (`area_mean`) by creating a scatter plot.\n",
    "\n",
    "- Use different colors to represent the two classes of cells.\n",
    "- Label your plot clearly.\n",
    "\n",
    "What visual relationship can you identify between the mean area of the cell and the cell-classification?"
   ]
  },
  {
   "cell_type": "code",
   "execution_count": null,
   "metadata": {},
   "outputs": [],
   "source": [
    "#### your code here ####"
   ]
  },
  {
   "cell_type": "markdown",
   "metadata": {},
   "source": [
    "**Step 3:** Fit a linear regression model to classify your newly defined variable `diagnosis_rescaled` using the mean area of the cell (`area_mean`).\n",
    "\n",
    "- Reconsider your classification target: What numeric values is your linear model trying to fit?\n",
    "- At what value of `area_mean` does your model predict $f(\\hat{\\theta}) = 0$? Can you interpret this value?\n",
    "\n",
    "*Hint: You can find the point where $f(\\hat{\\theta}) = 0$ by using the functional form of your regression line and solving for `area_mean`.*"
   ]
  },
  {
   "cell_type": "code",
   "execution_count": null,
   "metadata": {},
   "outputs": [],
   "source": [
    "#### your code here ####"
   ]
  },
  {
   "cell_type": "markdown",
   "metadata": {},
   "source": [
    "**Step 4:** Extend your previous scatter plot by adding the regression line and a vertical line indicating the value of `area_mean` where your model predicts zero. Set the y-axis limits to the interval [-5, 5]. Reflect on the loss function your model uses:\n",
    "\n",
    "Considering the types of errors it produces, do you think this loss function is appropriate for classification tasks?\n"
   ]
  },
  {
   "cell_type": "code",
   "execution_count": null,
   "metadata": {},
   "outputs": [],
   "source": [
    "#### your code here ####"
   ]
  }
 ],
 "metadata": {
  "kernelspec": {
   "display_name": "DSML_env",
   "language": "python",
   "name": "python3"
  },
  "language_info": {
   "codemirror_mode": {
    "name": "ipython",
    "version": 3
   },
   "file_extension": ".py",
   "mimetype": "text/x-python",
   "name": "python",
   "nbconvert_exporter": "python",
   "pygments_lexer": "ipython3",
   "version": "3.13.2"
  }
 },
 "nbformat": 4,
 "nbformat_minor": 2
}
