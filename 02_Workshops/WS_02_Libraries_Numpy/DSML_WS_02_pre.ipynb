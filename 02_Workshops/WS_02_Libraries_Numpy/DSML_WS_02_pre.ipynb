{
 "cells": [
  {
   "cell_type": "markdown",
   "metadata": {},
   "source": [
    "# `DSML_WS_02` - Introduction to Python Library Management & `NumPy`"
   ]
  },
  {
   "cell_type": "markdown",
   "metadata": {},
   "source": [
    "Please work on the following tasks **before** the second workshop session."
   ]
  },
  {
   "cell_type": "markdown",
   "metadata": {},
   "source": [
    "## 1. Programming a simple calculator in Python"
   ]
  },
  {
   "cell_type": "markdown",
   "metadata": {},
   "source": [
    "Last week, you made yourself familiar with Python, getting to know about data structures like values, lists and dictionaries, explored for loops and if statements, and learned how to define functions. To put your knowledge of basic Python to the test, write a properly documented python function that can perform the taks of a simple calculator with the following behaviour:\n",
    "\n",
    "1. The user shall pass the desired mathematical operation (plus, minus, divide, multiply) and two numbers\n",
    "\n",
    "2. The result shall be calculated and printed\n",
    "\n",
    "3. If the input for the mathematical operation is not covered by the list from above, print \"Please correct your input\"\n",
    "\n",
    "**You should use the following elements:** \n",
    "\n",
    "- If/elif/else statement\n",
    "- Functions\n",
    "- Mathematical expressions"
   ]
  },
  {
   "cell_type": "code",
   "execution_count": 20,
   "metadata": {},
   "outputs": [],
   "source": [
    "def simple_calc(first_num, ops, second_num):\n",
    "    \"\"\"\n",
    "    Perform a mathematical operation between two numbers\n",
    "    ...\n",
    "    \n",
    "    Arguments\n",
    "    ---------\n",
    "    first_num     : int/float\n",
    "                    first number in calculation\n",
    "                    \n",
    "    ops           : str\n",
    "                    mathematical operation; ops=[\"plus\", \"minus\", \"multiply\", \"divide\"]\n",
    "    \n",
    "    second_num    : int/float\n",
    "                    second number in calculation\n",
    "    \n",
    "    Returns\n",
    "    -------\n",
    "    result : str\n",
    "            Operation and results of operation as string\n",
    "    \"\"\"\n",
    "    #### your code below ####\n",
    "    \n",
    "    if ops == \"plus\":\n",
    "        result = first_num + second_num\n",
    "        output = f\"{first_num} + {second_num} = {result}\"\n",
    "    elif ops == \"minus\":\n",
    "        result = first_num - second_num\n",
    "        output = f\"{first_num} - {second_num} = {result}\"        \n",
    "    elif ops == \"multiply\":\n",
    "        result = first_num * second_num\n",
    "        output = f\"{first_num} * {second_num} = {result}\"\n",
    "    elif ops == \"divide\":\n",
    "        if second_num != 0:\n",
    "            result = first_num / second_num\n",
    "            output = f\"{first_num} / {second_num} = {result}\"\n",
    "        else:\n",
    "            output = \"Error: Division by zero is not allowed.\"\n",
    "    else:\n",
    "        output = \"Please correct your input\"\n",
    "    \n",
    "    return output\n",
    "        "
   ]
  },
  {
   "cell_type": "code",
   "execution_count": 21,
   "metadata": {},
   "outputs": [
    {
     "name": "stdout",
     "output_type": "stream",
     "text": [
      "1.) 2 + 2 = 4\n",
      "2.) 2 - 2 = 0\n",
      "3.) 9 * 9 = 81\n",
      "4.) 27 / -5 = -5.4\n",
      "5.) Error: Division by zero is not allowed.\n",
      "6.) Please correct your input\n"
     ]
    }
   ],
   "source": [
    "# try out your calculator by calling the simple_calc function with different argument values\n",
    "print(f\"1.) {simple_calc(2, \"plus\", 2)}\")\n",
    "print(\"2.)\", simple_calc(2, \"minus\", 2))\n",
    "print(\"3.)\", simple_calc(9, \"multiply\", 9))\n",
    "print(\"4.)\", simple_calc(27, \"divide\", -5))\n",
    "print(\"5.)\", simple_calc(2, \"divide\", 0))\n",
    "print(\"6.)\", simple_calc(2, \"plu\", 0))\n"
   ]
  },
  {
   "cell_type": "markdown",
   "metadata": {},
   "source": [
    "## 2. Getting started with NumPy"
   ]
  },
  {
   "cell_type": "markdown",
   "metadata": {},
   "source": [
    "This week, we will be exploring our first Python package, namely NumPy. Get prepared for the workshop by completing the below steps:"
   ]
  },
  {
   "cell_type": "markdown",
   "metadata": {},
   "source": [
    "In order to use NumPy's capabilities, we first have to import it. Do this by running the following cell. We use the `as` keyword so we can use an abbreviation when calling NumPy methods."
   ]
  },
  {
   "cell_type": "code",
   "execution_count": 22,
   "metadata": {},
   "outputs": [],
   "source": [
    "import numpy as np"
   ]
  },
  {
   "cell_type": "markdown",
   "metadata": {},
   "source": [
    "The core structure of NumPy is the N-dimensional array object. You can create arrays using `np.array([..,..,..])`. Do the following:\n",
    "1. Create a list of 5 integers and assign it to a variable called `lst`.\n",
    "2. Use `lst` to create a NumPy array, and assign this array to a variable called `my_first_array`.\n",
    "3. Verify that the type of `my_first_array` is np.array.\n",
    "4. Create a second array, consisting of the first 3 numbers from `my_first_array`, and assign it to a variable called `my_second_array` (tip: selecting a subset of elements from arrays works similarly to lists).\n",
    "5. Create a third array, which contains each number from `my_second_array` multiplied by 3, and assign it to a variable called `my_third_array` (tip: thinking about list operations from last week will help you here once again)."
   ]
  },
  {
   "cell_type": "code",
   "execution_count": 45,
   "metadata": {},
   "outputs": [
    {
     "data": {
      "text/plain": [
       "array([ 3, 12,  6])"
      ]
     },
     "execution_count": 45,
     "metadata": {},
     "output_type": "execute_result"
    }
   ],
   "source": [
    "# your code here\n",
    "# 1.\n",
    "lst = [1, 4, 2, 6, 19]\n",
    "\n",
    "# 2.\n",
    "my_first_array = np.array(lst)\n",
    "my_first_array\n",
    "\n",
    "# 3.\n",
    "type(my_first_array)\n",
    "\n",
    "# 4.\n",
    "my_second_array = my_first_array[0:3]\n",
    "my_second_array\n",
    "\n",
    "# 5.\n",
    "my_third_array = my_second_array * 3\n",
    "my_third_array"
   ]
  },
  {
   "cell_type": "markdown",
   "metadata": {},
   "source": [
    "Finally, let's combine `my_second_array` and `my_third_array`. We can use the functions np.hstack((`first_array`,`second_array`)) or np.vstack((`first_array`,`second_array`)) for this. Combine `my_second_array` and `my_third_array` using both functions. How does the output differ? Can I also use both functions to combine `my_first_array`and `my_second_array`?"
   ]
  },
  {
   "cell_type": "code",
   "execution_count": null,
   "metadata": {},
   "outputs": [
    {
     "data": {
      "text/plain": [
       "array([ 1,  4,  2,  3, 12,  6])"
      ]
     },
     "execution_count": 57,
     "metadata": {},
     "output_type": "execute_result"
    }
   ],
   "source": [
    "# your code here\n",
    "np.hstack((my_second_array, my_third_array))\n",
    "# np.hstack combines 'next to each other' in one row"
   ]
  },
  {
   "cell_type": "code",
   "execution_count": null,
   "metadata": {},
   "outputs": [
    {
     "data": {
      "text/plain": [
       "array([[ 1,  4,  2],\n",
       "       [ 3, 12,  6]])"
      ]
     },
     "execution_count": 58,
     "metadata": {},
     "output_type": "execute_result"
    }
   ],
   "source": [
    "np.vstack((my_second_array, my_third_array))\n",
    "# np.vstack combines vertically, new row\n",
    "# caution! arrays must be compatible"
   ]
  },
  {
   "cell_type": "code",
   "execution_count": 61,
   "metadata": {},
   "outputs": [
    {
     "ename": "ValueError",
     "evalue": "all the input array dimensions except for the concatenation axis must match exactly, but along dimension 1, the array at index 0 has size 5 and the array at index 1 has size 3",
     "output_type": "error",
     "traceback": [
      "\u001b[31m---------------------------------------------------------------------------\u001b[39m",
      "\u001b[31mValueError\u001b[39m                                Traceback (most recent call last)",
      "\u001b[36mCell\u001b[39m\u001b[36m \u001b[39m\u001b[32mIn[61]\u001b[39m\u001b[32m, line 2\u001b[39m\n\u001b[32m      1\u001b[39m \u001b[38;5;66;03m# that's why this doesn't work\u001b[39;00m\n\u001b[32m----> \u001b[39m\u001b[32m2\u001b[39m np.vstack((my_first_array, my_second_array))\n",
      "\u001b[36mFile \u001b[39m\u001b[32m/opt/anaconda3/envs/DSML_env/lib/python3.13/site-packages/numpy/_core/shape_base.py:292\u001b[39m, in \u001b[36mvstack\u001b[39m\u001b[34m(tup, dtype, casting)\u001b[39m\n\u001b[32m    290\u001b[39m \u001b[38;5;28;01mif\u001b[39;00m \u001b[38;5;129;01mnot\u001b[39;00m \u001b[38;5;28misinstance\u001b[39m(arrs, \u001b[38;5;28mtuple\u001b[39m):\n\u001b[32m    291\u001b[39m     arrs = (arrs,)\n\u001b[32m--> \u001b[39m\u001b[32m292\u001b[39m \u001b[38;5;28;01mreturn\u001b[39;00m _nx.concatenate(arrs, \u001b[32m0\u001b[39m, dtype=dtype, casting=casting)\n",
      "\u001b[31mValueError\u001b[39m: all the input array dimensions except for the concatenation axis must match exactly, but along dimension 1, the array at index 0 has size 5 and the array at index 1 has size 3"
     ]
    }
   ],
   "source": [
    "# that's why this doesn't work\n",
    "np.vstack((my_first_array, my_second_array))"
   ]
  },
  {
   "cell_type": "code",
   "execution_count": 62,
   "metadata": {},
   "outputs": [
    {
     "data": {
      "text/plain": [
       "array([ 1,  4,  2,  6, 19,  1,  4,  2])"
      ]
     },
     "execution_count": 62,
     "metadata": {},
     "output_type": "execute_result"
    }
   ],
   "source": [
    "np.hstack((my_first_array, my_second_array))"
   ]
  },
  {
   "cell_type": "code",
   "execution_count": null,
   "metadata": {},
   "outputs": [],
   "source": []
  }
 ],
 "metadata": {
  "kernelspec": {
   "display_name": "DSML_env",
   "language": "python",
   "name": "python3"
  },
  "language_info": {
   "codemirror_mode": {
    "name": "ipython",
    "version": 3
   },
   "file_extension": ".py",
   "mimetype": "text/x-python",
   "name": "python",
   "nbconvert_exporter": "python",
   "pygments_lexer": "ipython3",
   "version": "3.13.2"
  }
 },
 "nbformat": 4,
 "nbformat_minor": 2
}
