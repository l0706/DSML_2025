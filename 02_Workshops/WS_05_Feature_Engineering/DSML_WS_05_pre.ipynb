{
 "cells": [
  {
   "cell_type": "markdown",
   "metadata": {},
   "source": [
    "# `DSML_WS_05` - Feature Engineering"
   ]
  },
  {
   "cell_type": "markdown",
   "metadata": {},
   "source": [
    "Please work on the following tasks **before** the fifth workshop session.\n",
    "\n",
    "*Note*: Because of the double workshop, there is only one task to prepare for this workshop."
   ]
  },
  {
   "cell_type": "markdown",
   "metadata": {},
   "source": [
    "## 1. Getting started with feature engineering"
   ]
  },
  {
   "cell_type": "markdown",
   "metadata": {},
   "source": [
    "This week, we will look at what features we can derive from the data we have available. We will use a large carsharing dataset during the workshop.\n",
    "\n",
    "Among other things, we will work with temporal data. This means that our dataframe contains information like \"2017-11-01 00:10:01\". Brainstorm features that you could extract from this piece of information and collect them in the list below."
   ]
  },
  {
   "cell_type": "markdown",
   "metadata": {},
   "source": [
    "Feature list:\n",
    "- date\n",
    "- ..."
   ]
  },
  {
   "cell_type": "markdown",
   "metadata": {},
   "source": [
    "Let's create a dataframe containing hypothetical date values. Execute the following cell."
   ]
  },
  {
   "cell_type": "code",
   "execution_count": null,
   "metadata": {},
   "outputs": [],
   "source": [
    "import pandas as pd\n",
    "\n",
    "test_data = pd.DataFrame({\"timestamp\": [\"2024-05-01\", \"2024-05-02\", \"2024-05-03\", \"2024-05-04\", \"2024-05-05\", \"2024-05-06\", \"2024-05-07\"]})\n",
    "\n",
    "test_data"
   ]
  },
  {
   "cell_type": "markdown",
   "metadata": {},
   "source": [
    "Manually look up the day of the week (Monday, Tuesday, Wednesday,...) for the given dates and add them in a second column called \"weekday_manually\"."
   ]
  },
  {
   "cell_type": "code",
   "execution_count": null,
   "metadata": {},
   "outputs": [],
   "source": [
    "# your code here\n"
   ]
  },
  {
   "cell_type": "markdown",
   "metadata": {},
   "source": [
    "This is, of course, not feasible for large datasets. Luckily, Pandas has extensive built-in functionalities to deal with datetime data. Use `pd.to_datetime(test_data[\"timestamp\"], format=\"%Y-%m-%d\")` to transform the timestamp column into datetime format. Check the data type of timestamp using the .info() method."
   ]
  },
  {
   "cell_type": "code",
   "execution_count": null,
   "metadata": {},
   "outputs": [],
   "source": [
    "# your code here\n"
   ]
  },
  {
   "cell_type": "markdown",
   "metadata": {},
   "source": [
    "Finally, let's again retrieve the name of the weekday, but this time Python should do the work for us. Simply use the `.dt.day_name()` method on the timestamp feature and save the result to a new column called \"weekday_pandas\"."
   ]
  },
  {
   "cell_type": "code",
   "execution_count": null,
   "metadata": {},
   "outputs": [],
   "source": [
    "# your code here\n"
   ]
  }
 ],
 "metadata": {
  "kernelspec": {
   "display_name": "DSML_env",
   "language": "python",
   "name": "python3"
  },
  "language_info": {
   "codemirror_mode": {
    "name": "ipython",
    "version": 3
   },
   "file_extension": ".py",
   "mimetype": "text/x-python",
   "name": "python",
   "nbconvert_exporter": "python",
   "pygments_lexer": "ipython3",
   "version": "3.12.2"
  }
 },
 "nbformat": 4,
 "nbformat_minor": 2
}
