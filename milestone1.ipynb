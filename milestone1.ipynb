{
 "cells": [
  {
   "cell_type": "markdown",
   "id": "84c8bfca",
   "metadata": {},
   "source": [
    "# Team Project Assignment - Milestone 1"
   ]
  },
  {
   "cell_type": "markdown",
   "id": "615e7c0c",
   "metadata": {},
   "source": [
    "**Dataset**: [E-Scooter Trips – City of Austin (2018–2022)](https://data.austintexas.gov/Transportation-and-Mobility/Shared-Micromobility-Vehicle-Trips-2018-2022-/7d8e-dm7r/about_data)\n",
    "\n",
    "**Prediction Task**: We aim to predict the **duration of an e-scooter trip** (in minutes) based on features such as start time, day of week, start location, and weather conditions. This is a **regression problem**.\n",
    "\n",
    "**Planned Features**:\n",
    "- Hour of day\n",
    "- Day of week\n",
    "- Month\n",
    "- Start location (latitude/longitude or region/neighborhood)\n",
    "- Trip distance (calculated from coordinates)\n",
    "- Weather data (temperature, precipitation, wind) [to be added]"
   ]
  },
  {
   "cell_type": "code",
   "execution_count": null,
   "id": "2b64b647",
   "metadata": {},
   "outputs": [],
   "source": [
    "# Import basic libraries\n",
    "import pandas as pd\n",
    "import numpy as np\n",
    "import matplotlib.pyplot as plt\n",
    "import seaborn as sns\n",
    "\n",
    "# For displaying all columns\n",
    "pd.set_option('display.max_columns', None)"
   ]
  },
  {
   "cell_type": "code",
   "execution_count": null,
   "id": "114be2d4",
   "metadata": {},
   "outputs": [],
   "source": [
    "# Load dataset (assuming it's been downloaded locally or use pd.read_csv with a direct link if CSV is hosted)\n",
    "data = pd.read_csv(\"Shared_Micromobility_Vehicle_Trips.csv\")\n",
    "\n",
    "# Quick look at the dataset\n",
    "data.head()"
   ]
  },
  {
   "cell_type": "code",
   "execution_count": null,
   "id": "08c56d53",
   "metadata": {},
   "outputs": [],
   "source": [
    "# Basic info\n",
    "data.info()\n",
    "\n",
    "# Check for null values\n",
    "data.isnull().sum()\n",
    "\n",
    "# Basic statistics\n",
    "data.describe()\n"
   ]
  },
  {
   "cell_type": "code",
   "execution_count": null,
   "id": "13a2fe13",
   "metadata": {},
   "outputs": [],
   "source": [
    "# Convert start and end times to datetime\n",
    "data['start_time'] = pd.to_datetime(data['start_time'])\n",
    "data['end_time'] = pd.to_datetime(data['end_time'])\n",
    "\n",
    "# Create trip duration in minutes\n",
    "data['trip_duration_min'] = (data['end_time'] - data['start_time']).dt.total_seconds() / 60\n",
    "\n",
    "# Drop trips with non-positive durations\n",
    "data = data[data['trip_duration_min'] > 0]\n",
    "\n",
    "# Histogram of trip durations\n",
    "plt.hist(data['trip_duration_min'], bins=50)\n",
    "plt.xlabel(\"Trip Duration (min)\")\n",
    "plt.title(\"Distribution of Trip Durations\")\n",
    "plt.show()\n"
   ]
  }
 ],
 "metadata": {
  "kernelspec": {
   "display_name": "DSML_env",
   "language": "python",
   "name": "python3"
  },
  "language_info": {
   "name": "python",
   "version": "3.13.2"
  }
 },
 "nbformat": 4,
 "nbformat_minor": 5
}
